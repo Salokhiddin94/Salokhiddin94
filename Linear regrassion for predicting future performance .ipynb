{
 "cells": [
  {
   "cell_type": "code",
   "execution_count": 2,
   "metadata": {},
   "outputs": [],
   "source": [
    "import numpy as np\n",
    "import pandas as pd\n",
    "from sklearn import linear_model\n",
    "import sklearn\n",
    "from sklearn.utils import shuffle\n",
    "import matplotlib.pyplot as plt\n",
    "from matplotlib import style\n",
    "import pickle"
   ]
  },
  {
   "cell_type": "code",
   "execution_count": 3,
   "metadata": {},
   "outputs": [],
   "source": [
    "style.use(\"ggplot\")"
   ]
  },
  {
   "cell_type": "code",
   "execution_count": 4,
   "metadata": {},
   "outputs": [],
   "source": [
    "data = pd.read_csv(\"student-mat.csv\", sep=\";\")"
   ]
  },
  {
   "cell_type": "code",
   "execution_count": 5,
   "metadata": {},
   "outputs": [
    {
     "name": "stdout",
     "output_type": "stream",
     "text": [
      "<bound method NDFrame.describe of     school sex  age address famsize Pstatus  Medu  Fedu      Mjob      Fjob  \\\n",
      "0       GP   F   18       U     GT3       A     4     4   at_home   teacher   \n",
      "1       GP   F   17       U     GT3       T     1     1   at_home     other   \n",
      "2       GP   F   15       U     LE3       T     1     1   at_home     other   \n",
      "3       GP   F   15       U     GT3       T     4     2    health  services   \n",
      "4       GP   F   16       U     GT3       T     3     3     other     other   \n",
      "..     ...  ..  ...     ...     ...     ...   ...   ...       ...       ...   \n",
      "390     MS   M   20       U     LE3       A     2     2  services  services   \n",
      "391     MS   M   17       U     LE3       T     3     1  services  services   \n",
      "392     MS   M   21       R     GT3       T     1     1     other     other   \n",
      "393     MS   M   18       R     LE3       T     3     2  services     other   \n",
      "394     MS   M   19       U     LE3       T     1     1     other   at_home   \n",
      "\n",
      "     ... famrel freetime  goout  Dalc  Walc health absences  G1  G2  G3  \n",
      "0    ...      4        3      4     1     1      3        6   5   6   6  \n",
      "1    ...      5        3      3     1     1      3        4   5   5   6  \n",
      "2    ...      4        3      2     2     3      3       10   7   8  10  \n",
      "3    ...      3        2      2     1     1      5        2  15  14  15  \n",
      "4    ...      4        3      2     1     2      5        4   6  10  10  \n",
      "..   ...    ...      ...    ...   ...   ...    ...      ...  ..  ..  ..  \n",
      "390  ...      5        5      4     4     5      4       11   9   9   9  \n",
      "391  ...      2        4      5     3     4      2        3  14  16  16  \n",
      "392  ...      5        5      3     3     3      3        3  10   8   7  \n",
      "393  ...      4        4      1     3     4      5        0  11  12  10  \n",
      "394  ...      3        2      3     3     3      5        5   8   9   9  \n",
      "\n",
      "[395 rows x 33 columns]>\n"
     ]
    }
   ],
   "source": [
    "print(data.describe)"
   ]
  },
  {
   "cell_type": "code",
   "execution_count": 6,
   "metadata": {},
   "outputs": [
    {
     "name": "stdout",
     "output_type": "stream",
     "text": [
      "Index(['school', 'sex', 'age', 'address', 'famsize', 'Pstatus', 'Medu', 'Fedu',\n",
      "       'Mjob', 'Fjob', 'reason', 'guardian', 'traveltime', 'studytime',\n",
      "       'failures', 'schoolsup', 'famsup', 'paid', 'activities', 'nursery',\n",
      "       'higher', 'internet', 'romantic', 'famrel', 'freetime', 'goout', 'Dalc',\n",
      "       'Walc', 'health', 'absences', 'G1', 'G2', 'G3'],\n",
      "      dtype='object')\n"
     ]
    }
   ],
   "source": [
    "print(data.columns)"
   ]
  },
  {
   "cell_type": "code",
   "execution_count": 7,
   "metadata": {},
   "outputs": [
    {
     "name": "stdout",
     "output_type": "stream",
     "text": [
      "   school sex  age address famsize Pstatus  Medu  Fedu      Mjob      Fjob  \\\n",
      "0      GP   F   18       U     GT3       A     4     4   at_home   teacher   \n",
      "1      GP   F   17       U     GT3       T     1     1   at_home     other   \n",
      "2      GP   F   15       U     LE3       T     1     1   at_home     other   \n",
      "3      GP   F   15       U     GT3       T     4     2    health  services   \n",
      "4      GP   F   16       U     GT3       T     3     3     other     other   \n",
      "5      GP   M   16       U     LE3       T     4     3  services     other   \n",
      "6      GP   M   16       U     LE3       T     2     2     other     other   \n",
      "7      GP   F   17       U     GT3       A     4     4     other   teacher   \n",
      "8      GP   M   15       U     LE3       A     3     2  services     other   \n",
      "9      GP   M   15       U     GT3       T     3     4     other     other   \n",
      "10     GP   F   15       U     GT3       T     4     4   teacher    health   \n",
      "11     GP   F   15       U     GT3       T     2     1  services     other   \n",
      "12     GP   M   15       U     LE3       T     4     4    health  services   \n",
      "13     GP   M   15       U     GT3       T     4     3   teacher     other   \n",
      "14     GP   M   15       U     GT3       A     2     2     other     other   \n",
      "15     GP   F   16       U     GT3       T     4     4    health     other   \n",
      "16     GP   F   16       U     GT3       T     4     4  services  services   \n",
      "17     GP   F   16       U     GT3       T     3     3     other     other   \n",
      "18     GP   M   17       U     GT3       T     3     2  services  services   \n",
      "19     GP   M   16       U     LE3       T     4     3    health     other   \n",
      "20     GP   M   15       U     GT3       T     4     3   teacher     other   \n",
      "21     GP   M   15       U     GT3       T     4     4    health    health   \n",
      "22     GP   M   16       U     LE3       T     4     2   teacher     other   \n",
      "23     GP   M   16       U     LE3       T     2     2     other     other   \n",
      "24     GP   F   15       R     GT3       T     2     4  services    health   \n",
      "25     GP   F   16       U     GT3       T     2     2  services  services   \n",
      "26     GP   M   15       U     GT3       T     2     2     other     other   \n",
      "27     GP   M   15       U     GT3       T     4     2    health  services   \n",
      "28     GP   M   16       U     LE3       A     3     4  services     other   \n",
      "29     GP   M   16       U     GT3       T     4     4   teacher   teacher   \n",
      "\n",
      "    ... famrel freetime  goout  Dalc  Walc health absences  G1  G2  G3  \n",
      "0   ...      4        3      4     1     1      3        6   5   6   6  \n",
      "1   ...      5        3      3     1     1      3        4   5   5   6  \n",
      "2   ...      4        3      2     2     3      3       10   7   8  10  \n",
      "3   ...      3        2      2     1     1      5        2  15  14  15  \n",
      "4   ...      4        3      2     1     2      5        4   6  10  10  \n",
      "5   ...      5        4      2     1     2      5       10  15  15  15  \n",
      "6   ...      4        4      4     1     1      3        0  12  12  11  \n",
      "7   ...      4        1      4     1     1      1        6   6   5   6  \n",
      "8   ...      4        2      2     1     1      1        0  16  18  19  \n",
      "9   ...      5        5      1     1     1      5        0  14  15  15  \n",
      "10  ...      3        3      3     1     2      2        0  10   8   9  \n",
      "11  ...      5        2      2     1     1      4        4  10  12  12  \n",
      "12  ...      4        3      3     1     3      5        2  14  14  14  \n",
      "13  ...      5        4      3     1     2      3        2  10  10  11  \n",
      "14  ...      4        5      2     1     1      3        0  14  16  16  \n",
      "15  ...      4        4      4     1     2      2        4  14  14  14  \n",
      "16  ...      3        2      3     1     2      2        6  13  14  14  \n",
      "17  ...      5        3      2     1     1      4        4   8  10  10  \n",
      "18  ...      5        5      5     2     4      5       16   6   5   5  \n",
      "19  ...      3        1      3     1     3      5        4   8  10  10  \n",
      "20  ...      4        4      1     1     1      1        0  13  14  15  \n",
      "21  ...      5        4      2     1     1      5        0  12  15  15  \n",
      "22  ...      4        5      1     1     3      5        2  15  15  16  \n",
      "23  ...      5        4      4     2     4      5        0  13  13  12  \n",
      "24  ...      4        3      2     1     1      5        2  10   9   8  \n",
      "25  ...      1        2      2     1     3      5       14   6   9   8  \n",
      "26  ...      4        2      2     1     2      5        2  12  12  11  \n",
      "27  ...      2        2      4     2     4      1        4  15  16  15  \n",
      "28  ...      5        3      3     1     1      5        4  11  11  11  \n",
      "29  ...      4        4      5     5     5      5       16  10  12  11  \n",
      "\n",
      "[30 rows x 33 columns]\n"
     ]
    }
   ],
   "source": [
    "print(data.school.head(30))"
   ]
  },
  {
   "cell_type": "code",
   "execution_count": 8,
   "metadata": {},
   "outputs": [],
   "source": [
    "predict = \"G3\""
   ]
  },
  {
   "cell_type": "code",
   "execution_count": 10,
   "metadata": {},
   "outputs": [],
   "source": [
    "data = data[[\"G1\", \"G2\", \"absences\",\"failures\", \"studytime\",\"G3\"]]\n",
    "data = shuffle(data)"
   ]
  },
  {
   "cell_type": "code",
   "execution_count": 11,
   "metadata": {},
   "outputs": [],
   "source": [
    "x = np.array(data.drop([predict], 1))\n",
    "y =np.array(data[predict])\n",
    "x_train, x_test, y_train, y_test = sklearn.model_selection.train_test_split(x, y, test_size=0.1)"
   ]
  },
  {
   "cell_type": "code",
   "execution_count": 12,
   "metadata": {},
   "outputs": [],
   "source": [
    "best = 0\n",
    "for _ in range(20):\n",
    "    x_train, x_test, y_train, y_test = sklearn.model_selection.train_test_split(x, y, test_size=0.1)"
   ]
  },
  {
   "cell_type": "code",
   "execution_count": 16,
   "metadata": {},
   "outputs": [
    {
     "name": "stdout",
     "output_type": "stream",
     "text": [
      "Accuracy: 0.9426324852365886\n"
     ]
    }
   ],
   "source": [
    "    linear = linear_model.LinearRegression()\n",
    "\n",
    "    linear.fit(x_train, y_train)\n",
    "    acc = linear.score(x_test, y_test)\n",
    "    print(\"Accuracy: \" + str(acc))\n",
    "\n",
    "    if acc > best:\n",
    "        best = acc\n",
    "        with open(\"studentgrades.pickle\", \"wb\") as f:\n",
    "            pickle.dump(linear, f)"
   ]
  },
  {
   "cell_type": "code",
   "execution_count": 17,
   "metadata": {},
   "outputs": [],
   "source": [
    "pickle_in = open(\"studentgrades.pickle\", \"rb\")\n",
    "linear = pickle.load(pickle_in)"
   ]
  },
  {
   "cell_type": "code",
   "execution_count": 18,
   "metadata": {},
   "outputs": [
    {
     "name": "stdout",
     "output_type": "stream",
     "text": [
      "-------------------------\n",
      "Coefficient: \n",
      " [ 0.17309144  0.96786038  0.03632409 -0.3017501  -0.20728028]\n",
      "Intercept: \n",
      " -1.5594036074348079\n",
      "-------------------------\n"
     ]
    }
   ],
   "source": [
    "print(\"-------------------------\")\n",
    "print('Coefficient: \\n', linear.coef_)\n",
    "print('Intercept: \\n', linear.intercept_)\n",
    "print(\"-------------------------\")"
   ]
  },
  {
   "cell_type": "code",
   "execution_count": 19,
   "metadata": {},
   "outputs": [
    {
     "name": "stdout",
     "output_type": "stream",
     "text": [
      "8.33306157263594 [10  9  2  0  3] 9\n",
      "10.922688746533996 [13 11  0  0  2] 10\n",
      "15.039869889518366 [14 15  2  0  2] 15\n",
      "6.856591144654081 [7 8 8 0 4] 8\n",
      "16.18082170990018 [15 16  2  0  2] 16\n",
      "11.33922122610314 [12 12  1  0  4] 12\n",
      "15.687309776131285 [16 15 16  0  3] 15\n",
      "6.082718416143076 [ 6  7 15  1  2] 8\n",
      "14.463045499272242 [15 14  8  0  2] 14\n",
      "14.58684999032552 [13 15  0  0  3] 15\n",
      "14.967221706489157 [14 15  0  0  2] 15\n",
      "17.601701988950808 [16 17  4  0  1] 18\n",
      "12.14251918248588 [10 13  6  0  4] 13\n",
      "18.988393432885864 [18 18  6  0  1] 18\n",
      "12.691711826375492 [10 13  4  0  1] 14\n",
      "4.166684041370301 [ 5  5 12  0  2] 5\n",
      "8.405709755665148 [10  9  4  0  3] 9\n",
      "3.78710182356045 [ 6  5 16  3  1] 5\n",
      "5.408079119246938 [ 7  6 10  0  2] 6\n",
      "5.289068741499792 [7 7 5 3 2] 7\n",
      "7.887645259973008 [ 6  9 14  2  1] 8\n",
      "9.238938042912531 [10 10  6  0  4] 11\n",
      "18.082353634500173 [16 18  2  0  3] 18\n",
      "13.693863611085463 [13 13 23  0  2] 13\n",
      "11.309290895238496 [10 12  4  0  3] 12\n",
      "3.567947448592868 [7 5 0 1 3] 0\n",
      "4.916599872140458 [5 6 6 0 2] 6\n",
      "8.33306157263594 [10  9  2  0  3] 8\n",
      "15.212961330042399 [15 15  2  0  2] 14\n",
      "12.315610623009912 [11 13  6  0  4] 14\n",
      "4.687077627632863 [8 6 2 2 2] 5\n",
      "8.612990031304754 [10  9  4  0  2] 11\n",
      "5.067376576876889 [ 6  6 22  2  2] 4\n",
      "4.619703940563149 [ 6  5 14  0  1] 5\n",
      "10.72180223154435 [11 11  4  0  2] 11\n",
      "14.967221706489157 [14 15  0  0  2] 15\n",
      "15.386052770566431 [16 15  2  0  2] 15\n",
      "-1.806476980486166 [5 0 0 3 1] 0\n",
      "14.72787584358588 [11 15  2  0  1] 15\n",
      "9.815925761267758 [11 10  0  0  1] 10\n"
     ]
    }
   ],
   "source": [
    "predicted= linear.predict(x_test)\n",
    "for x in range(len(predicted)):\n",
    "    print(predicted[x], x_test[x], y_test[x])"
   ]
  },
  {
   "cell_type": "code",
   "execution_count": null,
   "metadata": {},
   "outputs": [],
   "source": []
  },
  {
   "cell_type": "code",
   "execution_count": 25,
   "metadata": {},
   "outputs": [
    {
     "name": "stderr",
     "output_type": "stream",
     "text": [
      "No handles with labels found to put in legend.\n"
     ]
    },
    {
     "data": {
      "image/png": "[encoded data removed]",
      "text/plain": [
       "<Figure size 432x288 with 1 Axes>"
      ]
     },
     "metadata": {},
     "output_type": "display_data"
    }
   ],
   "source": [
    "plt.title('correlation table')\n",
    "plot = \"failures\"\n",
    "plt.scatter(data[plot], data[\"G3\"],marker='o')\n",
    "plt.legend()\n",
    "plt.xlabel(plot)\n",
    "plt.ylabel(\"Final Grade\")\n",
    "plt.show()"
   ]
  },
  {
   "cell_type": "code",
   "execution_count": 26,
   "metadata": {},
   "outputs": [
    {
     "name": "stderr",
     "output_type": "stream",
     "text": [
      "No handles with labels found to put in legend.\n"
     ]
    },
    {
     "data": {
      "image/png": "[encoded data removed]",
      "text/plain": [
       "<Figure size 432x288 with 1 Axes>"
      ]
     },
     "metadata": {},
     "output_type": "display_data"
    }
   ],
   "source": [
    "plt.title('correlation table')\n",
    "plot = \"G1\"\n",
    "plt.scatter(data[plot], data[\"G3\"],marker='o')\n",
    "plt.legend()\n",
    "plt.xlabel(plot)\n",
    "plt.ylabel(\"Final Grade\")\n",
    "plt.show()"
   ]
  },
  {
   "cell_type": "code",
   "execution_count": 10,
   "metadata": {},
   "outputs": [
    {
     "name": "stderr",
     "output_type": "stream",
     "text": [
      "No handles with labels found to put in legend.\n"
     ]
    },
    {
     "data": {
      "image/png": "[encoded data removed]",
      "text/plain": [
       "<Figure size 432x288 with 1 Axes>"
      ]
     },
     "metadata": {},
     "output_type": "display_data"
    }
   ],
   "source": [
    "plt.title('correlation table')\n",
    "plot = \"studytime\"\n",
    "plt.scatter(data[plot], data[\"G3\"],marker='o')\n",
    "plt.legend()\n",
    "plt.xlabel(plot)\n",
    "plt.ylabel(\"Final Grade\")\n",
    "plt.show()"
   ]
  },
  {
   "cell_type": "code",
   "execution_count": 13,
   "metadata": {},
   "outputs": [
    {
     "name": "stderr",
     "output_type": "stream",
     "text": [
      "No handles with labels found to put in legend.\n"
     ]
    },
    {
     "data": {
      "image/png": "[encoded data removed]",
      "text/plain": [
       "<Figure size 432x288 with 1 Axes>"
      ]
     },
     "metadata": {},
     "output_type": "display_data"
    }
   ],
   "source": [
    "plt.title('correlation table')\n",
    "plot = \"studytime\"\n",
    "plt.scatter(data[plot], data[\"G3\"],marker='o')\n",
    "plt.legend(loc=4)\n",
    "plt.xlabel(plot)\n",
    "plt.ylabel(\"Final Grade\")\n",
    "plt.show()"
   ]
  },
  {
   "cell_type": "code",
   "execution_count": null,
   "metadata": {},
   "outputs": [],
   "source": []
  }
 ],
 "metadata": {
  "kernelspec": {
   "display_name": "Python 3",
   "language": "python",
   "name": "python3"
  },
  "language_info": {
   "codemirror_mode": {
    "name": "ipython",
    "version": 3
   },
   "file_extension": ".py",
   "mimetype": "text/x-python",
   "name": "python",
   "nbconvert_exporter": "python",
   "pygments_lexer": "ipython3",
   "version": "3.7.4"
  }
 },
 "nbformat": 4,
 "nbformat_minor": 2
}
