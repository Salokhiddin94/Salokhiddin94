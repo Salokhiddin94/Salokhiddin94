  {
   "cell_type": "code",
   "execution_count": 1,
   "metadata": {},
   "outputs": [],
   "source": [
    "import pandas as pd\n",
    "import numpy as np\n",
    "import sklearn\n",
    "from sklearn import linear_model\n",
    "from sklearn.utils import shuffle"
   ]
  },
  {
   "cell_type": "code",
   "execution_count": 3,
   "metadata": {},
   "outputs": [
    {
     "name": "stdout",
     "output_type": "stream",
     "text": [
      "  school sex  age address famsize Pstatus  Medu  Fedu      Mjob      Fjob  \\\n",
      "0     GP   F   18       U     GT3       A     4     4   at_home   teacher   \n",
      "1     GP   F   17       U     GT3       T     1     1   at_home     other   \n",
      "2     GP   F   15       U     LE3       T     1     1   at_home     other   \n",
      "3     GP   F   15       U     GT3       T     4     2    health  services   \n",
      "4     GP   F   16       U     GT3       T     3     3     other     other   \n",
      "5     GP   M   16       U     LE3       T     4     3  services     other   \n",
      "6     GP   M   16       U     LE3       T     2     2     other     other   \n",
      "7     GP   F   17       U     GT3       A     4     4     other   teacher   \n",
      "8     GP   M   15       U     LE3       A     3     2  services     other   \n",
      "9     GP   M   15       U     GT3       T     3     4     other     other   \n",
      "\n",
      "   ... famrel freetime  goout  Dalc  Walc health absences  G1  G2  G3  \n",
      "0  ...      4        3      4     1     1      3        6   5   6   6  \n",
      "1  ...      5        3      3     1     1      3        4   5   5   6  \n",
      "2  ...      4        3      2     2     3      3       10   7   8  10  \n",
      "3  ...      3        2      2     1     1      5        2  15  14  15  \n",
      "4  ...      4        3      2     1     2      5        4   6  10  10  \n",
      "5  ...      5        4      2     1     2      5       10  15  15  15  \n",
      "6  ...      4        4      4     1     1      3        0  12  12  11  \n",
      "7  ...      4        1      4     1     1      1        6   6   5   6  \n",
      "8  ...      4        2      2     1     1      1        0  16  18  19  \n",
      "9  ...      5        5      1     1     1      5        0  14  15  15  \n",
      "\n",
      "[10 rows x 33 columns]\n"
     ]
    }
   ],
   "source": [
    "data = pd.read_csv(\"student-mat.csv\", sep=\";\")\n",
    "# Since our data is seperated by semicolons we need to do sep=\";\"\n",
    "print(data.head(10))"
   ]
  },
  {
   "cell_type": "code",
   "execution_count": 4,
   "metadata": {},
   "outputs": [],
   "source": [
    "data = data[[\"G1\", \"G2\", \"G3\", \"studytime\", \"failures\", \"absences\"]]"
   ]
  },
  {
   "cell_type": "code",
   "execution_count": 5,
   "metadata": {},
   "outputs": [],
   "source": [
    "predict = \"G3\"\n",
    "\n",
    "X = np.array(data.drop([predict], 1)) # Features\n",
    "y = np.array(data[predict]) # Labels"
   ]
  },
  {
   "cell_type": "code",
   "execution_count": 6,
   "metadata": {},
   "outputs": [],
   "source": [
    "x_train, x_test, y_train, y_test = sklearn.model_selection.train_test_split(X, y, test_size = 0.1)"
   ]
  },
  {
   "cell_type": "code",
   "execution_count": 9,
   "metadata": {},
   "outputs": [
    {
     "name": "stdout",
     "output_type": "stream",
     "text": [
      "0.7414868521928122\n",
      "Coefficient: \n",
      " [ 0.1262836   0.99568088 -0.00805272 -0.29298735  0.03412902]\n",
      "Intercept: \n",
      " -1.6741621779486895\n",
      "8.138740076614098 [7 9 4 0 0] 0\n",
      "11.331742335109285 [12 11  1  0 16] 11\n",
      "9.39504087708223 [ 9 10  3  0  0] 0\n",
      "14.203724045409924 [15 14  3  0  2] 15\n",
      "3.6470324084732724 [3 5 2 1 8] 5\n",
      "8.407412715241867 [9 9 2 0 0] 10\n",
      "-0.553715208711141 [9 0 2 0 0] 0\n",
      "8.517590878759183 [10  9  4  0  0] 0\n",
      "14.710375960186743 [11 15  1  0  2] 15\n",
      "6.2437358703854 [8 7 1 1 7] 8\n",
      "11.649202323236963 [10 12  3  0  4] 12\n",
      "10.729832203677226 [10 11  2  0  6] 11\n",
      "15.081174043732977 [14 15  2  0  2] 15\n",
      "9.284862713564914 [ 8 10  1  0  0] 11\n",
      "15.012916001452348 [14 15  2  0  0] 16\n",
      "19.095518888861704 [17 18  2  0 21] 18\n",
      "11.791329742647223 [12 12  4  0  1] 12\n",
      "15.012916001452348 [14 15  2  0  0] 15\n",
      "5.346500696794566 [7 6 1 0 5] 7\n",
      "4.2387100560591 [ 6  5  1  1 14] 5\n",
      "19.850116856071352 [18 19  1  0 10] 19\n",
      "7.55848040321013 [8 8 2 0 8] 6\n",
      "11.773306158704619 [12 12  2  0  0] 11\n",
      "8.612186842083753 [9 9 2 0 6] 10\n",
      "-0.42743160799611246 [10  0  2  0  0] 0\n",
      "15.803494822528583 [16 15  3  0 16] 15\n",
      "15.468077564476916 [17 15  1  0  2] 15\n",
      "15.012916001452348 [14 15  2  0  0] 15\n",
      "14.340240129971184 [15 14  3  0  6] 14\n",
      "13.08981228285453 [14 13  2  0  2] 13\n",
      "4.0560708751861165 [5 5 2 0 4] 6\n",
      "9.665893280957373 [10 10  2  0  4] 10\n",
      "8.688497602963237 [9 9 1 0 8] 10\n",
      "10.10327942850779 [12 10  2  1 18] 10\n",
      "12.066803295519593 [10 12  2  0 16] 11\n",
      "8.015821731482074 [10  8  2  0 14] 9\n",
      "7.880143366412847 [6 9 1 1 4] 8\n",
      "7.610633008293048 [ 8  8  4  0 10] 8\n",
      "8.154845513811809 [7 9 2 0 0] 8\n",
      "10.787857762111626 [11 11  2  0  4] 11\n"
     ]
    }
   ],
   "source": [
    "import pandas as pd\n",
    "import numpy as np\n",
    "import sklearn\n",
    "from sklearn import linear_model\n",
    "from sklearn.utils import shuffle\n",
    "\n",
    "data = pd.read_csv(\"student-mat.csv\", sep=\";\")\n",
    "\n",
    "data = data[[\"G1\", \"G2\", \"G3\", \"studytime\", \"failures\", \"absences\"]]\n",
    "\n",
    "predict = \"G3\"\n",
    "\n",
    "X = np.array(data.drop([predict], 1))\n",
    "y = np.array(data[predict])\n",
    "\n",
    "x_train, x_test, y_train, y_test = sklearn.model_selection.train_test_split(X, y, test_size = 0.1)\n",
    "\n",
    "linear = linear_model.LinearRegression()\n",
    "\n",
    "linear.fit(x_train, y_train)\n",
    "acc = linear.score(x_test, y_test)\n",
    "print(acc)\n",
    "\n",
    "print('Coefficient: \\n', linear.coef_)\n",
    "print('Intercept: \\n', linear.intercept_)\n",
    "\n",
    "predictions = linear.predict(x_test)\n",
    "\n",
    "for x in range(len(predictions)):\n",
    "    print(predictions[x], x_test[x], y_test[x])"
   ]
  },
  {
   "cell_type": "code",
   "execution_count": 1,
   "metadata": {},
   "outputs": [],
   "source": [
    "import pandas as pd\n",
    "import numpy as np\n",
    "import sklearn\n",
    "from sklearn import linear_model\n",
    "from sklearn.utils import shuffle\n",
    "\n",
    "data = pd.read_csv(\"student-mat.csv\", sep=\";\")"
   ]
  },
  {
   "cell_type": "code",
   "execution_count": 2,
   "metadata": {},
   "outputs": [
    {
     "name": "stdout",
     "output_type": "stream",
     "text": [
      "['school' 'sex' 'age' 'address' 'famsize' 'Pstatus' 'Medu' 'Fedu' 'Mjob'\n",
      " 'Fjob' 'reason' 'guardian' 'traveltime' 'studytime' 'failures'\n",
      " 'schoolsup' 'famsup' 'paid' 'activities' 'nursery' 'higher' 'internet'\n",
      " 'romantic' 'famrel' 'freetime' 'goout' 'Dalc' 'Walc' 'health' 'absences'\n",
      " 'G1' 'G2' 'G3']\n"
     ]
    }
   ],
   "source": [
    "print(data.columns.values)"
   ]
  },
  {
   "cell_type": "code",
   "execution_count": null,
   "metadata": {},
   "outputs": [],
   "source": []
  }
 ],
 "metadata": {
  "kernelspec": {
   "display_name": "Python 3",
   "language": "python",
   "name": "python3"
  },
  "language_info": {
   "codemirror_mode": {
    "name": "ipython",
    "version": 3
   },
   "file_extension": ".py",
   "mimetype": "text/x-python",
   "name": "python",
   "nbconvert_exporter": "python",
   "pygments_lexer": "ipython3",
   "version": "3.7.4"
  }
 },
 "nbformat": 4,
 "nbformat_minor": 2
}
