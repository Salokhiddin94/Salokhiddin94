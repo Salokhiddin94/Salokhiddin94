{
 "cells": [
  {
   "cell_type": "code",
   "execution_count": 1,
   "metadata": {},
   "outputs": [],
   "source": [
    "import random\n",
    "\n",
    "def find_num(x=10):\n",
    "    \"\"\"this function for user to guess number\n",
    "    \"\"\"\n",
    "    random_num = random.randint(1,x)\n",
    "    print(f\"I think a number from 1 to {x}. Can you try to find it?\", end=\"\")\n",
    "    attempts = 0\n",
    "    while True:\n",
    "        attempts += 1\n",
    "        guess = int(input(\">>>\"))\n",
    "        if guess<random_num:\n",
    "            print(\"Wrong. The number I think is bigger. Try again please:\", end=\"\")\n",
    "        elif guess>random_num:\n",
    "            print(\"Wrong. The number I think is smaller. Try again please:\", end=\"\")\n",
    "        else:\n",
    "            break\n",
    "              \n",
    "    print(f\"Congrats. You found after {attempts} attempts!\")\n",
    "    return attempts\n"
   ]
  },
  {
   "cell_type": "code",
   "execution_count": 2,
   "metadata": {},
   "outputs": [
    {
     "name": "stdout",
     "output_type": "stream",
     "text": [
      "I think a number from 1 to 10. Can you try to find it?>>>5\n",
      "Wrong. The number I think is bigger. Try again please:>>>8\n",
      "Wrong. The number I think is smaller. Try again please:>>>7\n",
      "Wrong. The number I think is smaller. Try again please:>>>6\n",
      "Congrats. You found after 4 attempts!\n"
     ]
    },
    {
     "data": {
      "text/plain": [
       "4"
      ]
     },
     "execution_count": 2,
     "metadata": {},
     "output_type": "execute_result"
    }
   ],
   "source": [
    "find_num()"
   ]
  },
  {
   "cell_type": "code",
   "execution_count": 3,
   "metadata": {},
   "outputs": [],
   "source": [
    "def find_num_pc(x=10):\n",
    "    input(f\"Think about any number from 1 to {x} and press any button. I will find the number.\")\n",
    "    bottom = 1\n",
    "    top = x\n",
    "    attempts = 0\n",
    "    while True:\n",
    "        attempts += 1\n",
    "        if bottom != top:\n",
    "            guess = random.randint(bottom,top)\n",
    "        else:\n",
    "            guess = top\n",
    "        answer = input(f\"You think the number {guess}: right (r),\"\n",
    "                      f\"I think bigger number (+), or I think smaller number (-)\".lower())\n",
    "        if answer == \"-\":\n",
    "            top = guess - 1\n",
    "        elif answer == \"+\":\n",
    "            bottom = guess + 1\n",
    "        else:\n",
    "            break\n",
    "    print(f\"I found after {attempts} attempts!\")\n",
    "    return attempts"
   ]
  },
  {
   "cell_type": "code",
   "execution_count": 4,
   "metadata": {},
   "outputs": [
    {
     "name": "stdout",
     "output_type": "stream",
     "text": [
      "Think about any number from 1 to 10 and press any button. I will find the number.\n",
      "you think the number 5: right (r),i think bigger number (+), or i think smaller number (-)+\n",
      "you think the number 7: right (r),i think bigger number (+), or i think smaller number (-)r\n",
      "I found after 2 attempts!\n"
     ]
    },
    {
     "data": {
      "text/plain": [
       "2"
      ]
     },
     "execution_count": 4,
     "metadata": {},
     "output_type": "execute_result"
    }
   ],
   "source": [
    "find_num_pc()"
   ]
  },
  {
   "cell_type": "code",
   "execution_count": 6,
   "metadata": {},
   "outputs": [
    {
     "name": "stdout",
     "output_type": "stream",
     "text": [
      "I think a number from 1 to 10. Can you try to find it?>>>5\n",
      "Wrong. The number I think is smaller. Try again please:>>>3\n",
      "Congrats. You found after 2 attempts!\n",
      "Think about any number from 1 to 10 and press any button. I will find the number.\n",
      "you think the number 1: right (r),i think bigger number (+), or i think smaller number (-)+\n",
      "you think the number 5: right (r),i think bigger number (+), or i think smaller number (-)r\n",
      "I found after 2 attempts!\n",
      "Draw!\n",
      "Play again? yes(1)/no(0):0\n"
     ]
    }
   ],
   "source": [
    "def play(x=10):\n",
    "    again = True\n",
    "    while again:\n",
    "        attempts_user = find_num(x)\n",
    "        attempts_pc = find_num_pc(x)\n",
    "                \n",
    "        if attempts_user>attempts_pc:\n",
    "            print(f\"I found after {attempts_pc} attempts and won!\")\n",
    "        elif attempts_user<attempts_pc:\n",
    "            print(f\"You found after {attempts_user} attempts and won!\")\n",
    "        else:\n",
    "            print(\"Draw!\")\n",
    "        again = int(input(\"Play again? yes(1)/no(0):\"))\n",
    "              \n",
    "play()"
   ]
  },
  {
   "cell_type": "code",
   "execution_count": null,
   "metadata": {},
   "outputs": [],
   "source": []
  }
 ],
 "metadata": {
  "kernelspec": {
   "display_name": "Python 3 (ipykernel)",
   "language": "python",
   "name": "python3"
  },
  "language_info": {
   "codemirror_mode": {
    "name": "ipython",
    "version": 3
   },
   "file_extension": ".py",
   "mimetype": "text/x-python",
   "name": "python",
   "nbconvert_exporter": "python",
   "pygments_lexer": "ipython3",
   "version": "3.7.3"
  }
 },
 "nbformat": 4,
 "nbformat_minor": 2
}
